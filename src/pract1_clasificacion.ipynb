{
 "cells": [
  {
   "cell_type": "markdown",
   "metadata": {},
   "source": [
    "# Práctica de clasificación"
   ]
  },
  {
   "cell_type": "markdown",
   "metadata": {},
   "source": [
    "## Contacto"
   ]
  },
  {
   "cell_type": "markdown",
   "metadata": {},
   "source": [
    "* Nombre: Jorge Cabrera Rodríguez\n",
    "* Email: alu0101351773@ull.edu.es\n",
    "* Universidad: Universidad de La Laguna\n",
    "* Grado: Ingeniería Informática\n",
    "* Repositorio: [enlace](https://github.com/alu0101351773/ECBD_practicas.git)"
   ]
  },
  {
   "cell_type": "markdown",
   "metadata": {},
   "source": [
    "## Introducción al _dataset_"
   ]
  },
  {
   "cell_type": "markdown",
   "metadata": {},
   "source": [
    "Este proyecto trbaja con una base de datos llamada `homeLoanAproval.csv`, que\n",
    "contiene información detallada sobre los créditos bancarios concedidos a 614\n",
    "usuarios de una entidad bancaria desconocida. Esta base de datos cuenta con\n",
    "valores como puedan ser, entre otros:\n",
    "\n",
    "* El estado civil del usuario (`Married`)\n",
    "* EL nivel educativo del solicitante (`Education`)\n",
    "* El importe del crédito solicitado (`LoanAmount`)\n",
    "* El número de personas que dependan del solicitante (`Dependents`)\n",
    "* El estado del crédito (`Loan_Status`) (Aprobado o denegado)\n",
    "\n",
    "Con esta base de datos se busca construir un sistema que sea capaz de ayudar en\n",
    "la tarea de concesión de créditos bancarios para futuros usuarios, de tal forma\n",
    "que para unos datos de entrada desconocidos para el sistema, este sea capaz de\n",
    "predecir si el crédito será aprobado o denegado."
   ]
  },
  {
   "cell_type": "markdown",
   "metadata": {},
   "source": [
    "## Desarrollo del proyecto"
   ]
  },
  {
   "cell_type": "markdown",
   "metadata": {},
   "source": [
    "### Visualización de datos"
   ]
  },
  {
   "cell_type": "markdown",
   "metadata": {},
   "source": [
    "#### Carga de datos"
   ]
  },
  {
   "cell_type": "markdown",
   "metadata": {},
   "source": [
    "La primera tarea a realizar con la base de datos es realizar una visualización\n",
    "inicial, para observar los datos con los que trabajamos, así como sus deficiencias\n",
    "y posibles problemas que puedan surgir."
   ]
  },
  {
   "cell_type": "code",
   "execution_count": 1,
   "metadata": {},
   "outputs": [],
   "source": [
    "import pandas as pd\n",
    "import numpy as np\n",
    "import matplotlib.pyplot as plt"
   ]
  },
  {
   "cell_type": "code",
   "execution_count": 2,
   "metadata": {},
   "outputs": [
    {
     "data": {
      "text/html": [
       "<div>\n",
       "<style scoped>\n",
       "    .dataframe tbody tr th:only-of-type {\n",
       "        vertical-align: middle;\n",
       "    }\n",
       "\n",
       "    .dataframe tbody tr th {\n",
       "        vertical-align: top;\n",
       "    }\n",
       "\n",
       "    .dataframe thead th {\n",
       "        text-align: right;\n",
       "    }\n",
       "</style>\n",
       "<table border=\"1\" class=\"dataframe\">\n",
       "  <thead>\n",
       "    <tr style=\"text-align: right;\">\n",
       "      <th></th>\n",
       "      <th>Loan_ID</th>\n",
       "      <th>Gender</th>\n",
       "      <th>Married</th>\n",
       "      <th>Dependents</th>\n",
       "      <th>Education</th>\n",
       "      <th>SelfEmployed</th>\n",
       "      <th>ApplicantIncome</th>\n",
       "      <th>CoapplicantIncome</th>\n",
       "      <th>LoanAmount</th>\n",
       "      <th>LoanAmountTerm</th>\n",
       "      <th>PropertyArea</th>\n",
       "      <th>LoanStatus</th>\n",
       "    </tr>\n",
       "  </thead>\n",
       "  <tbody>\n",
       "    <tr>\n",
       "      <th>0</th>\n",
       "      <td>LP001002</td>\n",
       "      <td>Male</td>\n",
       "      <td>No</td>\n",
       "      <td>0</td>\n",
       "      <td>Graduate</td>\n",
       "      <td>No</td>\n",
       "      <td>5849</td>\n",
       "      <td>0</td>\n",
       "      <td>NaN</td>\n",
       "      <td>360.0</td>\n",
       "      <td>Urban</td>\n",
       "      <td>Y</td>\n",
       "    </tr>\n",
       "    <tr>\n",
       "      <th>1</th>\n",
       "      <td>LP001003</td>\n",
       "      <td>Male</td>\n",
       "      <td>Yes</td>\n",
       "      <td>1</td>\n",
       "      <td>Graduate</td>\n",
       "      <td>No</td>\n",
       "      <td>4583</td>\n",
       "      <td>1508</td>\n",
       "      <td>128.0</td>\n",
       "      <td>360.0</td>\n",
       "      <td>Rural</td>\n",
       "      <td>N</td>\n",
       "    </tr>\n",
       "    <tr>\n",
       "      <th>2</th>\n",
       "      <td>LP001005</td>\n",
       "      <td>Male</td>\n",
       "      <td>Yes</td>\n",
       "      <td>0</td>\n",
       "      <td>Graduate</td>\n",
       "      <td>Yes</td>\n",
       "      <td>3000</td>\n",
       "      <td>0</td>\n",
       "      <td>66.0</td>\n",
       "      <td>360.0</td>\n",
       "      <td>Urban</td>\n",
       "      <td>Y</td>\n",
       "    </tr>\n",
       "    <tr>\n",
       "      <th>3</th>\n",
       "      <td>LP001006</td>\n",
       "      <td>Male</td>\n",
       "      <td>Yes</td>\n",
       "      <td>0</td>\n",
       "      <td>Not Graduate</td>\n",
       "      <td>No</td>\n",
       "      <td>2583</td>\n",
       "      <td>2358</td>\n",
       "      <td>120.0</td>\n",
       "      <td>360.0</td>\n",
       "      <td>Urban</td>\n",
       "      <td>Y</td>\n",
       "    </tr>\n",
       "    <tr>\n",
       "      <th>4</th>\n",
       "      <td>LP001008</td>\n",
       "      <td>Male</td>\n",
       "      <td>No</td>\n",
       "      <td>0</td>\n",
       "      <td>Graduate</td>\n",
       "      <td>No</td>\n",
       "      <td>6000</td>\n",
       "      <td>0</td>\n",
       "      <td>141.0</td>\n",
       "      <td>360.0</td>\n",
       "      <td>Urban</td>\n",
       "      <td>Y</td>\n",
       "    </tr>\n",
       "  </tbody>\n",
       "</table>\n",
       "</div>"
      ],
      "text/plain": [
       "    Loan_ID Gender Married Dependents     Education SelfEmployed  \\\n",
       "0  LP001002   Male      No          0      Graduate           No   \n",
       "1  LP001003   Male     Yes          1      Graduate           No   \n",
       "2  LP001005   Male     Yes          0      Graduate          Yes   \n",
       "3  LP001006   Male     Yes          0  Not Graduate           No   \n",
       "4  LP001008   Male      No          0      Graduate           No   \n",
       "\n",
       "   ApplicantIncome CoapplicantIncome  LoanAmount  LoanAmountTerm PropertyArea  \\\n",
       "0             5849                 0         NaN           360.0        Urban   \n",
       "1             4583              1508       128.0           360.0        Rural   \n",
       "2             3000                 0        66.0           360.0        Urban   \n",
       "3             2583              2358       120.0           360.0        Urban   \n",
       "4             6000                 0       141.0           360.0        Urban   \n",
       "\n",
       "  LoanStatus  \n",
       "0          Y  \n",
       "1          N  \n",
       "2          Y  \n",
       "3          Y  \n",
       "4          Y  "
      ]
     },
     "execution_count": 2,
     "metadata": {},
     "output_type": "execute_result"
    }
   ],
   "source": [
    "dataset = pd.read_csv('../data/Base de datos - homeLoanAproval.csv')\n",
    "dataset.head()"
   ]
  },
  {
   "cell_type": "code",
   "execution_count": 3,
   "metadata": {},
   "outputs": [
    {
     "name": "stdout",
     "output_type": "stream",
     "text": [
      "Tamaño del dataset: (614, 12)\n"
     ]
    }
   ],
   "source": [
    "print(f'Tamaño del dataset: {dataset.shape}')"
   ]
  },
  {
   "cell_type": "markdown",
   "metadata": {},
   "source": [
    "En la primera visualización podemos observar que el dataset cuenta con 614\n",
    "registros y 12 variables por cada registro. De estas 12 variables, 11 son\n",
    "variables de entrada y 1 es la variable de salida, que es la que se pretende\n",
    "predecir (`LoanStatus`)."
   ]
  },
  {
   "cell_type": "markdown",
   "metadata": {},
   "source": [
    "#### Recuento de valores nulos"
   ]
  },
  {
   "cell_type": "markdown",
   "metadata": {},
   "source": [
    "Contaremos el número de valores\n",
    "nulos que contiene cada variable, con el objetivo de analizar si es necesario\n",
    "realizar algún tipo de tratamiento de datos para eliminar estos valores nulos."
   ]
  },
  {
   "cell_type": "code",
   "execution_count": 4,
   "metadata": {},
   "outputs": [
    {
     "data": {
      "text/html": [
       "<div>\n",
       "<style scoped>\n",
       "    .dataframe tbody tr th:only-of-type {\n",
       "        vertical-align: middle;\n",
       "    }\n",
       "\n",
       "    .dataframe tbody tr th {\n",
       "        vertical-align: top;\n",
       "    }\n",
       "\n",
       "    .dataframe thead th {\n",
       "        text-align: right;\n",
       "    }\n",
       "</style>\n",
       "<table border=\"1\" class=\"dataframe\">\n",
       "  <thead>\n",
       "    <tr style=\"text-align: right;\">\n",
       "      <th></th>\n",
       "      <th>Tipo de dato</th>\n",
       "      <th>Valores faltantes (NA)</th>\n",
       "    </tr>\n",
       "  </thead>\n",
       "  <tbody>\n",
       "    <tr>\n",
       "      <th>Loan_ID</th>\n",
       "      <td>object</td>\n",
       "      <td>0</td>\n",
       "    </tr>\n",
       "    <tr>\n",
       "      <th>Gender</th>\n",
       "      <td>object</td>\n",
       "      <td>13</td>\n",
       "    </tr>\n",
       "    <tr>\n",
       "      <th>Married</th>\n",
       "      <td>object</td>\n",
       "      <td>3</td>\n",
       "    </tr>\n",
       "    <tr>\n",
       "      <th>Dependents</th>\n",
       "      <td>object</td>\n",
       "      <td>15</td>\n",
       "    </tr>\n",
       "    <tr>\n",
       "      <th>Education</th>\n",
       "      <td>object</td>\n",
       "      <td>0</td>\n",
       "    </tr>\n",
       "    <tr>\n",
       "      <th>SelfEmployed</th>\n",
       "      <td>object</td>\n",
       "      <td>32</td>\n",
       "    </tr>\n",
       "    <tr>\n",
       "      <th>ApplicantIncome</th>\n",
       "      <td>int64</td>\n",
       "      <td>0</td>\n",
       "    </tr>\n",
       "    <tr>\n",
       "      <th>CoapplicantIncome</th>\n",
       "      <td>object</td>\n",
       "      <td>0</td>\n",
       "    </tr>\n",
       "    <tr>\n",
       "      <th>LoanAmount</th>\n",
       "      <td>float64</td>\n",
       "      <td>22</td>\n",
       "    </tr>\n",
       "    <tr>\n",
       "      <th>LoanAmountTerm</th>\n",
       "      <td>float64</td>\n",
       "      <td>14</td>\n",
       "    </tr>\n",
       "    <tr>\n",
       "      <th>PropertyArea</th>\n",
       "      <td>object</td>\n",
       "      <td>0</td>\n",
       "    </tr>\n",
       "    <tr>\n",
       "      <th>LoanStatus</th>\n",
       "      <td>object</td>\n",
       "      <td>0</td>\n",
       "    </tr>\n",
       "  </tbody>\n",
       "</table>\n",
       "</div>"
      ],
      "text/plain": [
       "                  Tipo de dato  Valores faltantes (NA)\n",
       "Loan_ID                 object                       0\n",
       "Gender                  object                      13\n",
       "Married                 object                       3\n",
       "Dependents              object                      15\n",
       "Education               object                       0\n",
       "SelfEmployed            object                      32\n",
       "ApplicantIncome          int64                       0\n",
       "CoapplicantIncome       object                       0\n",
       "LoanAmount             float64                      22\n",
       "LoanAmountTerm         float64                      14\n",
       "PropertyArea            object                       0\n",
       "LoanStatus              object                       0"
      ]
     },
     "execution_count": 4,
     "metadata": {},
     "output_type": "execute_result"
    }
   ],
   "source": [
    "pd.DataFrame.from_dict(\n",
    "    data = {\n",
    "        'Tipo de dato': dataset.dtypes,\n",
    "        'Valores faltantes (NA)': dataset.isna().sum(),\n",
    "    },\n",
    "    orient = 'columns'\n",
    ")"
   ]
  },
  {
   "cell_type": "markdown",
   "metadata": {},
   "source": [
    "Podemos observar que la base de datos cuenta con bastantes valores nulos, por lo\n",
    "que será necesario algún tipo de preprocesado para poder reducir su número."
   ]
  },
  {
   "cell_type": "markdown",
   "metadata": {},
   "source": [
    "#### Análisis de valores atípicos"
   ]
  },
  {
   "cell_type": "markdown",
   "metadata": {},
   "source": [
    "Además de los valores nulos, también es necesario analizar los valores atípicos\n",
    "(_outliers_) que puedan existir en la base de datos. Para ello, se ha realizado\n",
    "un análisis de los valores atípicos de las variables numéricas, que son las\n",
    "siguientes:\n",
    "\n",
    "* `ApplicantIncome`\n",
    "* `LoanAmount`\n",
    "* `LoanAmountTerm`\n",
    "\n",
    "Para este análisis, se ha utilizado el diagrama de cajas (_boxplot_), que nos\n",
    "permite observar los valores atípicos de una variable de forma visual."
   ]
  },
  {
   "cell_type": "code",
   "execution_count": 5,
   "metadata": {},
   "outputs": [
    {
     "data": {
      "text/plain": [
       "Text(0.5, 1.0, 'LoanAmountTerm')"
      ]
     },
     "execution_count": 5,
     "metadata": {},
     "output_type": "execute_result"
    },
    {
     "data": {
      "image/png": "[encoded data removed]",
      "text/plain": [
       "<Figure size 1500x1000 with 3 Axes>"
      ]
     },
     "metadata": {},
     "output_type": "display_data"
    }
   ],
   "source": [
    "fig, ax = plt.subplots(nrows = 1, ncols = 3, figsize = (15, 10))\n",
    "\n",
    "ax[0].boxplot(dataset['LoanAmount'].dropna())\n",
    "ax[0].set_title('LoanAmount')\n",
    "\n",
    "ax[1].boxplot(dataset['ApplicantIncome'])\n",
    "ax[1].set_title('ApplicantIncome')\n",
    "\n",
    "ax[2].boxplot(dataset['LoanAmountTerm'].dropna())\n",
    "ax[2].set_title('LoanAmountTerm')"
   ]
  },
  {
   "cell_type": "markdown",
   "metadata": {},
   "source": [
    "Según se puede observar, la variable `CoapplicantIncome` no se ha incluido en\n",
    "el análisis de outliers, pues aunque contenga números, estos están expresados\n",
    "como cadenas de texto, por lo que se debe analizar únicamente tras haber\n",
    "realizado el preprocesado de datos.\n",
    "\n",
    "Para corregir esta variable antes de comenzar el preproceasdo persé, se\n",
    "realizará una pequeña limpieza de datos en la que se formateará la variable a\n",
    "números, eliminando puntos y comas, y convirtiendo la variable a tipo numérico."
   ]
  },
  {
   "cell_type": "code",
   "execution_count": 6,
   "metadata": {},
   "outputs": [
    {
     "data": {
      "text/plain": [
       "{'whiskers': [<matplotlib.lines.Line2D at 0x2492b7ef010>,\n",
       "  <matplotlib.lines.Line2D at 0x2492b7df3d0>],\n",
       " 'caps': [<matplotlib.lines.Line2D at 0x2492b7f83d0>,\n",
       "  <matplotlib.lines.Line2D at 0x2492b7f8f90>],\n",
       " 'boxes': [<matplotlib.lines.Line2D at 0x2492b7ee6d0>],\n",
       " 'medians': [<matplotlib.lines.Line2D at 0x2492b7f99d0>],\n",
       " 'fliers': [<matplotlib.lines.Line2D at 0x2492b7fa510>],\n",
       " 'means': []}"
      ]
     },
     "execution_count": 6,
     "metadata": {},
     "output_type": "execute_result"
    },
    {
     "data": {
      "image/png": "[encoded data removed]",
      "text/plain": [
       "<Figure size 640x480 with 1 Axes>"
      ]
     },
     "metadata": {},
     "output_type": "display_data"
    }
   ],
   "source": [
    "if dataset['CoapplicantIncome'].dtype is not np.dtype('int64'):\n",
    "    dataset['CoapplicantIncome'] = dataset['CoapplicantIncome'].apply(lambda x: int(x.replace('.', '')))\n",
    "\n",
    "fig, ax = plt.subplots()\n",
    "\n",
    "ax.boxplot(dataset['CoapplicantIncome'])"
   ]
  },
  {
   "cell_type": "markdown",
   "metadata": {},
   "source": [
    "Como se observa en el diagrama de cajas de la variable `CoapplicantIncome`, esta\n",
    "cuenta con pocos valores atípicos, pero muy alejados del promedio de valores, lo\n",
    "que podrá (y seguramente lo hará) afectar al modelo de clasificación generado."
   ]
  },
  {
   "cell_type": "markdown",
   "metadata": {},
   "source": [
    "#### Balance de clases"
   ]
  },
  {
   "cell_type": "markdown",
   "metadata": {},
   "source": [
    "Como último paso de visualización de datos, puede ser interesante analizar el\n",
    "balance de clases de la variable de salida `LoanStatus`, para observar si\n",
    "existe un desbalance que pueda afectar al modelo de clasificación."
   ]
  },
  {
   "cell_type": "code",
   "execution_count": 7,
   "metadata": {},
   "outputs": [
    {
     "data": {
      "text/html": [
       "<div>\n",
       "<style scoped>\n",
       "    .dataframe tbody tr th:only-of-type {\n",
       "        vertical-align: middle;\n",
       "    }\n",
       "\n",
       "    .dataframe tbody tr th {\n",
       "        vertical-align: top;\n",
       "    }\n",
       "\n",
       "    .dataframe thead th {\n",
       "        text-align: right;\n",
       "    }\n",
       "</style>\n",
       "<table border=\"1\" class=\"dataframe\">\n",
       "  <thead>\n",
       "    <tr style=\"text-align: right;\">\n",
       "      <th></th>\n",
       "      <th>Registros</th>\n",
       "      <th>Porcentaje (%)</th>\n",
       "    </tr>\n",
       "    <tr>\n",
       "      <th>LoanStatus</th>\n",
       "      <th></th>\n",
       "      <th></th>\n",
       "    </tr>\n",
       "  </thead>\n",
       "  <tbody>\n",
       "    <tr>\n",
       "      <th>Y</th>\n",
       "      <td>422</td>\n",
       "      <td>68.73</td>\n",
       "    </tr>\n",
       "    <tr>\n",
       "      <th>N</th>\n",
       "      <td>192</td>\n",
       "      <td>31.27</td>\n",
       "    </tr>\n",
       "  </tbody>\n",
       "</table>\n",
       "</div>"
      ],
      "text/plain": [
       "            Registros  Porcentaje (%)\n",
       "LoanStatus                           \n",
       "Y                 422           68.73\n",
       "N                 192           31.27"
      ]
     },
     "execution_count": 7,
     "metadata": {},
     "output_type": "execute_result"
    }
   ],
   "source": [
    "pd.DataFrame.from_dict(\n",
    "    data = {\n",
    "        'Registros': dataset['LoanStatus'].value_counts(),\n",
    "        'Porcentaje (%)': dataset['LoanStatus'].value_counts(normalize = True).apply(lambda x: round(x * 100, 2)),\n",
    "    },\n",
    "    orient = 'columns'\n",
    ")"
   ]
  },
  {
   "cell_type": "markdown",
   "metadata": {},
   "source": [
    "Podemos observar un desbalance de clases moderado, pues casi un 70% de las\n",
    "entradas pertenecen a la clase de créditos aprobados (`Y`), mientras que el\n",
    "resto pertenecen a la clase de créditos denegados (`N`).\n",
    "\n",
    "Siendo un desbalance no tan marcado, es probable que no influya demasiado en el\n",
    "modelo de clasificación. Sin embargo, sería interesante más adelante realizar un\n",
    "entrenamiento del modelo con y sin balanceo de clases, para observar si existe\n",
    "alguna mejora en el rendimiento del mismo."
   ]
  },
  {
   "cell_type": "markdown",
   "metadata": {},
   "source": [
    "### Preprocesado de datos"
   ]
  },
  {
   "cell_type": "markdown",
   "metadata": {},
   "source": [
    "#### Eliminación de variables innecesarias"
   ]
  },
  {
   "cell_type": "markdown",
   "metadata": {},
   "source": [
    "El primer paso de la fase de preprocesado será la eliminación de aquellas\n",
    "variables que no aporten información al modelo, o sean irrelevantes por su\n",
    "propia naturaleza.\n",
    "\n",
    "En este caso en particular, todas las variables aportan información sobre los\n",
    "clientes que puede ser relevante; todas menos la variable `LoanID`, pues es un\n",
    "valor serial que se genera de forma automática para cada registro, y no aporta\n",
    "ninguna información útil para un modelo de clasificación."
   ]
  },
  {
   "cell_type": "code",
   "execution_count": 8,
   "metadata": {},
   "outputs": [
    {
     "data": {
      "text/html": [
       "<div>\n",
       "<style scoped>\n",
       "    .dataframe tbody tr th:only-of-type {\n",
       "        vertical-align: middle;\n",
       "    }\n",
       "\n",
       "    .dataframe tbody tr th {\n",
       "        vertical-align: top;\n",
       "    }\n",
       "\n",
       "    .dataframe thead th {\n",
       "        text-align: right;\n",
       "    }\n",
       "</style>\n",
       "<table border=\"1\" class=\"dataframe\">\n",
       "  <thead>\n",
       "    <tr style=\"text-align: right;\">\n",
       "      <th></th>\n",
       "      <th>Gender</th>\n",
       "      <th>Married</th>\n",
       "      <th>Dependents</th>\n",
       "      <th>Education</th>\n",
       "      <th>SelfEmployed</th>\n",
       "      <th>ApplicantIncome</th>\n",
       "      <th>CoapplicantIncome</th>\n",
       "      <th>LoanAmount</th>\n",
       "      <th>LoanAmountTerm</th>\n",
       "      <th>PropertyArea</th>\n",
       "      <th>LoanStatus</th>\n",
       "    </tr>\n",
       "  </thead>\n",
       "  <tbody>\n",
       "    <tr>\n",
       "      <th>0</th>\n",
       "      <td>Male</td>\n",
       "      <td>No</td>\n",
       "      <td>0</td>\n",
       "      <td>Graduate</td>\n",
       "      <td>No</td>\n",
       "      <td>5849</td>\n",
       "      <td>0</td>\n",
       "      <td>NaN</td>\n",
       "      <td>360.0</td>\n",
       "      <td>Urban</td>\n",
       "      <td>Y</td>\n",
       "    </tr>\n",
       "    <tr>\n",
       "      <th>1</th>\n",
       "      <td>Male</td>\n",
       "      <td>Yes</td>\n",
       "      <td>1</td>\n",
       "      <td>Graduate</td>\n",
       "      <td>No</td>\n",
       "      <td>4583</td>\n",
       "      <td>1508</td>\n",
       "      <td>128.0</td>\n",
       "      <td>360.0</td>\n",
       "      <td>Rural</td>\n",
       "      <td>N</td>\n",
       "    </tr>\n",
       "    <tr>\n",
       "      <th>2</th>\n",
       "      <td>Male</td>\n",
       "      <td>Yes</td>\n",
       "      <td>0</td>\n",
       "      <td>Graduate</td>\n",
       "      <td>Yes</td>\n",
       "      <td>3000</td>\n",
       "      <td>0</td>\n",
       "      <td>66.0</td>\n",
       "      <td>360.0</td>\n",
       "      <td>Urban</td>\n",
       "      <td>Y</td>\n",
       "    </tr>\n",
       "    <tr>\n",
       "      <th>3</th>\n",
       "      <td>Male</td>\n",
       "      <td>Yes</td>\n",
       "      <td>0</td>\n",
       "      <td>Not Graduate</td>\n",
       "      <td>No</td>\n",
       "      <td>2583</td>\n",
       "      <td>2358</td>\n",
       "      <td>120.0</td>\n",
       "      <td>360.0</td>\n",
       "      <td>Urban</td>\n",
       "      <td>Y</td>\n",
       "    </tr>\n",
       "    <tr>\n",
       "      <th>4</th>\n",
       "      <td>Male</td>\n",
       "      <td>No</td>\n",
       "      <td>0</td>\n",
       "      <td>Graduate</td>\n",
       "      <td>No</td>\n",
       "      <td>6000</td>\n",
       "      <td>0</td>\n",
       "      <td>141.0</td>\n",
       "      <td>360.0</td>\n",
       "      <td>Urban</td>\n",
       "      <td>Y</td>\n",
       "    </tr>\n",
       "  </tbody>\n",
       "</table>\n",
       "</div>"
      ],
      "text/plain": [
       "  Gender Married Dependents     Education SelfEmployed  ApplicantIncome  \\\n",
       "0   Male      No          0      Graduate           No             5849   \n",
       "1   Male     Yes          1      Graduate           No             4583   \n",
       "2   Male     Yes          0      Graduate          Yes             3000   \n",
       "3   Male     Yes          0  Not Graduate           No             2583   \n",
       "4   Male      No          0      Graduate           No             6000   \n",
       "\n",
       "   CoapplicantIncome  LoanAmount  LoanAmountTerm PropertyArea LoanStatus  \n",
       "0                  0         NaN           360.0        Urban          Y  \n",
       "1               1508       128.0           360.0        Rural          N  \n",
       "2                  0        66.0           360.0        Urban          Y  \n",
       "3               2358       120.0           360.0        Urban          Y  \n",
       "4                  0       141.0           360.0        Urban          Y  "
      ]
     },
     "execution_count": 8,
     "metadata": {},
     "output_type": "execute_result"
    }
   ],
   "source": [
    "if 'Loan_ID' in dataset.columns:\n",
    "    dataset.drop(columns = ['Loan_ID'], inplace = True)\n",
    "dataset.head()"
   ]
  },
  {
   "cell_type": "markdown",
   "metadata": {},
   "source": [
    "#### Corrección de valores faltantes"
   ]
  },
  {
   "cell_type": "markdown",
   "metadata": {},
   "source": [
    "Tras haber eliminado las variables innecesarias, se procederá a corregir los\n",
    "valores faltantes de las variables restantes. Para esto, podemos realizar\n",
    "múltiples operaciones:\n",
    "\n",
    "* Para las variables numéricas:\n",
    "    * Media de sus valores\n",
    "    * Mediana de sus valores\n",
    "    * Moda global de sus valores\n",
    "* Para las variables categóricas:\n",
    "    * Moda global de sus valores\n",
    "\n",
    "Alternativamente a estas técnicas sencillas, podemos utilizar técnicas que tengan\n",
    "en cuenta otras variables, como pueda ser:\n",
    "\n",
    "* Cálculo de la media acorde al `LoanStatus`\n",
    "* Cálculo de la mediana acorde al `LoanStatus`\n",
    "* Cálculo de la moda acorde al `LoanStatus`\n",
    "\n",
    "Para este caso en particular, se ha decidido generar dos datasets diferentes,\n",
    "uno con diferentes procesados basados en valores de centralización, y otro\n",
    "eliminando todos aquellos registros con valores nulos.\n",
    "\n",
    "<!-- TODO: Revisar esta descripción porque da penita -->"
   ]
  },
  {
   "cell_type": "markdown",
   "metadata": {},
   "source": [
    "#### Etiquetado"
   ]
  },
  {
   "cell_type": "markdown",
   "metadata": {},
   "source": [
    "#### Corrección de _outliers_"
   ]
  },
  {
   "cell_type": "markdown",
   "metadata": {},
   "source": [
    "#### Balance de clases"
   ]
  },
  {
   "cell_type": "markdown",
   "metadata": {},
   "source": [
    "### Definición de modelos"
   ]
  },
  {
   "cell_type": "markdown",
   "metadata": {},
   "source": [
    "#### Creación de modelos"
   ]
  },
  {
   "cell_type": "markdown",
   "metadata": {},
   "source": [
    "#### Entrenamiento de modelos"
   ]
  },
  {
   "cell_type": "markdown",
   "metadata": {},
   "source": [
    "#### Evaluación de modelos"
   ]
  },
  {
   "cell_type": "markdown",
   "metadata": {},
   "source": [
    "## Conclusiones extraídas"
   ]
  }
 ],
 "metadata": {
  "kernelspec": {
   "display_name": "Python 3",
   "language": "python",
   "name": "python3"
  },
  "language_info": {
   "codemirror_mode": {
    "name": "ipython",
    "version": 3
   },
   "file_extension": ".py",
   "mimetype": "text/x-python",
   "name": "python",
   "nbconvert_exporter": "python",
   "pygments_lexer": "ipython3",
   "version": "3.11.4"
  },
  "orig_nbformat": 4
 },
 "nbformat": 4,
 "nbformat_minor": 2
}
