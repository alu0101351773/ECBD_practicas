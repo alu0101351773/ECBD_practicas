{
 "cells": [
  {
   "cell_type": "markdown",
   "metadata": {},
   "source": [
    "# Práctica de clasificación"
   ]
  },
  {
   "cell_type": "markdown",
   "metadata": {},
   "source": [
    "## Contacto"
   ]
  },
  {
   "cell_type": "markdown",
   "metadata": {},
   "source": [
    "* Nombre: Jorge Cabrera Rodríguez\n",
    "* Email: alu0101351773@ull.edu.es\n",
    "* Universidad: Universidad de La Laguna\n",
    "* Grado: Ingeniería Informática\n",
    "* Repositorio: [enlace](https://github.com/alu0101351773/ECBD_practicas.git)"
   ]
  },
  {
   "cell_type": "markdown",
   "metadata": {},
   "source": [
    "## Introducción al _dataset_"
   ]
  },
  {
   "cell_type": "markdown",
   "metadata": {},
   "source": [
    "Este proyecto trbaja con una base de datos llamada `homeLoanAproval.csv`, que\n",
    "contiene información detallada sobre los créditos bancarios concedidos a 614\n",
    "usuarios de una entidad bancaria desconocida. Esta base de datos cuenta con\n",
    "valores como puedan ser, entre otros:\n",
    "\n",
    "* El estado civil del usuario (`Married`)\n",
    "* EL nivel educativo del solicitante (`Education`)\n",
    "* El importe del crédito solicitado (`LoanAmount`)\n",
    "* El número de personas que dependan del solicitante (`Dependents`)\n",
    "* El estado del crédito (`Loan_Status`) (Aprobado o denegado)\n",
    "\n",
    "Con esta base de datos se busca construir un sistema que sea capaz de ayudar en\n",
    "la tarea de concesión de créditos bancarios para futuros usuarios, de tal forma\n",
    "que para unos datos de entrada desconocidos para el sistema, este sea capaz de\n",
    "predecir si el crédito será aprobado o denegado."
   ]
  },
  {
   "cell_type": "markdown",
   "metadata": {},
   "source": [
    "## Desarrollo del proyecto"
   ]
  },
  {
   "cell_type": "markdown",
   "metadata": {},
   "source": [
    "### Visualización de datos"
   ]
  },
  {
   "cell_type": "markdown",
   "metadata": {},
   "source": [
    "#### Carga de datos"
   ]
  },
  {
   "cell_type": "markdown",
   "metadata": {},
   "source": [
    "La primera tarea a realizar con la base de datos es realizar una visualización\n",
    "inicial, para observar los datos con los que trabajamos, así como sus deficiencias\n",
    "y posibles problemas que puedan surgir."
   ]
  },
  {
   "cell_type": "code",
   "execution_count": 46,
   "metadata": {},
   "outputs": [],
   "source": [
    "import pandas as pd\n",
    "import numpy as np\n",
    "import matplotlib.pyplot as plt"
   ]
  },
  {
   "cell_type": "code",
   "execution_count": 47,
   "metadata": {},
   "outputs": [
    {
     "data": {
      "text/html": [
       "<div>\n",
       "<style scoped>\n",
       "    .dataframe tbody tr th:only-of-type {\n",
       "        vertical-align: middle;\n",
       "    }\n",
       "\n",
       "    .dataframe tbody tr th {\n",
       "        vertical-align: top;\n",
       "    }\n",
       "\n",
       "    .dataframe thead th {\n",
       "        text-align: right;\n",
       "    }\n",
       "</style>\n",
       "<table border=\"1\" class=\"dataframe\">\n",
       "  <thead>\n",
       "    <tr style=\"text-align: right;\">\n",
       "      <th></th>\n",
       "      <th>Loan_ID</th>\n",
       "      <th>Gender</th>\n",
       "      <th>Married</th>\n",
       "      <th>Dependents</th>\n",
       "      <th>Education</th>\n",
       "      <th>SelfEmployed</th>\n",
       "      <th>ApplicantIncome</th>\n",
       "      <th>CoapplicantIncome</th>\n",
       "      <th>LoanAmount</th>\n",
       "      <th>LoanAmountTerm</th>\n",
       "      <th>PropertyArea</th>\n",
       "      <th>LoanStatus</th>\n",
       "    </tr>\n",
       "  </thead>\n",
       "  <tbody>\n",
       "    <tr>\n",
       "      <th>0</th>\n",
       "      <td>LP001002</td>\n",
       "      <td>Male</td>\n",
       "      <td>No</td>\n",
       "      <td>0</td>\n",
       "      <td>Graduate</td>\n",
       "      <td>No</td>\n",
       "      <td>5849</td>\n",
       "      <td>0</td>\n",
       "      <td>NaN</td>\n",
       "      <td>360.0</td>\n",
       "      <td>Urban</td>\n",
       "      <td>Y</td>\n",
       "    </tr>\n",
       "    <tr>\n",
       "      <th>1</th>\n",
       "      <td>LP001003</td>\n",
       "      <td>Male</td>\n",
       "      <td>Yes</td>\n",
       "      <td>1</td>\n",
       "      <td>Graduate</td>\n",
       "      <td>No</td>\n",
       "      <td>4583</td>\n",
       "      <td>1508</td>\n",
       "      <td>128.0</td>\n",
       "      <td>360.0</td>\n",
       "      <td>Rural</td>\n",
       "      <td>N</td>\n",
       "    </tr>\n",
       "    <tr>\n",
       "      <th>2</th>\n",
       "      <td>LP001005</td>\n",
       "      <td>Male</td>\n",
       "      <td>Yes</td>\n",
       "      <td>0</td>\n",
       "      <td>Graduate</td>\n",
       "      <td>Yes</td>\n",
       "      <td>3000</td>\n",
       "      <td>0</td>\n",
       "      <td>66.0</td>\n",
       "      <td>360.0</td>\n",
       "      <td>Urban</td>\n",
       "      <td>Y</td>\n",
       "    </tr>\n",
       "    <tr>\n",
       "      <th>3</th>\n",
       "      <td>LP001006</td>\n",
       "      <td>Male</td>\n",
       "      <td>Yes</td>\n",
       "      <td>0</td>\n",
       "      <td>Not Graduate</td>\n",
       "      <td>No</td>\n",
       "      <td>2583</td>\n",
       "      <td>2358</td>\n",
       "      <td>120.0</td>\n",
       "      <td>360.0</td>\n",
       "      <td>Urban</td>\n",
       "      <td>Y</td>\n",
       "    </tr>\n",
       "    <tr>\n",
       "      <th>4</th>\n",
       "      <td>LP001008</td>\n",
       "      <td>Male</td>\n",
       "      <td>No</td>\n",
       "      <td>0</td>\n",
       "      <td>Graduate</td>\n",
       "      <td>No</td>\n",
       "      <td>6000</td>\n",
       "      <td>0</td>\n",
       "      <td>141.0</td>\n",
       "      <td>360.0</td>\n",
       "      <td>Urban</td>\n",
       "      <td>Y</td>\n",
       "    </tr>\n",
       "  </tbody>\n",
       "</table>\n",
       "</div>"
      ],
      "text/plain": [
       "    Loan_ID Gender Married Dependents     Education SelfEmployed  \\\n",
       "0  LP001002   Male      No          0      Graduate           No   \n",
       "1  LP001003   Male     Yes          1      Graduate           No   \n",
       "2  LP001005   Male     Yes          0      Graduate          Yes   \n",
       "3  LP001006   Male     Yes          0  Not Graduate           No   \n",
       "4  LP001008   Male      No          0      Graduate           No   \n",
       "\n",
       "   ApplicantIncome CoapplicantIncome  LoanAmount  LoanAmountTerm PropertyArea  \\\n",
       "0             5849                 0         NaN           360.0        Urban   \n",
       "1             4583              1508       128.0           360.0        Rural   \n",
       "2             3000                 0        66.0           360.0        Urban   \n",
       "3             2583              2358       120.0           360.0        Urban   \n",
       "4             6000                 0       141.0           360.0        Urban   \n",
       "\n",
       "  LoanStatus  \n",
       "0          Y  \n",
       "1          N  \n",
       "2          Y  \n",
       "3          Y  \n",
       "4          Y  "
      ]
     },
     "execution_count": 47,
     "metadata": {},
     "output_type": "execute_result"
    }
   ],
   "source": [
    "dataset = pd.read_csv('../data/Base de datos - homeLoanAproval.csv')\n",
    "dataset.head()"
   ]
  },
  {
   "cell_type": "code",
   "execution_count": 48,
   "metadata": {},
   "outputs": [
    {
     "name": "stdout",
     "output_type": "stream",
     "text": [
      "Tamaño del dataset: (614, 12)\n"
     ]
    }
   ],
   "source": [
    "print(f'Tamaño del dataset: {dataset.shape}')"
   ]
  },
  {
   "cell_type": "markdown",
   "metadata": {},
   "source": [
    "En la primera visualización podemos observar que el dataset cuenta con 614\n",
    "registros y 12 variables por cada registro. De estas 12 variables, 11 son\n",
    "variables de entrada y 1 es la variable de salida, que es la que se pretende\n",
    "predecir (`LoanStatus`)."
   ]
  },
  {
   "cell_type": "markdown",
   "metadata": {},
   "source": [
    "#### Recuento de valores nulos"
   ]
  },
  {
   "cell_type": "markdown",
   "metadata": {},
   "source": [
    "Contaremos el número de valores\n",
    "nulos que contiene cada variable, con el objetivo de analizar si es necesario\n",
    "realizar algún tipo de tratamiento de datos para eliminar estos valores nulos."
   ]
  },
  {
   "cell_type": "code",
   "execution_count": 49,
   "metadata": {},
   "outputs": [
    {
     "data": {
      "text/html": [
       "<div>\n",
       "<style scoped>\n",
       "    .dataframe tbody tr th:only-of-type {\n",
       "        vertical-align: middle;\n",
       "    }\n",
       "\n",
       "    .dataframe tbody tr th {\n",
       "        vertical-align: top;\n",
       "    }\n",
       "\n",
       "    .dataframe thead th {\n",
       "        text-align: right;\n",
       "    }\n",
       "</style>\n",
       "<table border=\"1\" class=\"dataframe\">\n",
       "  <thead>\n",
       "    <tr style=\"text-align: right;\">\n",
       "      <th></th>\n",
       "      <th>Tipo de dato</th>\n",
       "      <th>Valores faltantes (NA)</th>\n",
       "    </tr>\n",
       "  </thead>\n",
       "  <tbody>\n",
       "    <tr>\n",
       "      <th>Loan_ID</th>\n",
       "      <td>object</td>\n",
       "      <td>0</td>\n",
       "    </tr>\n",
       "    <tr>\n",
       "      <th>Gender</th>\n",
       "      <td>object</td>\n",
       "      <td>13</td>\n",
       "    </tr>\n",
       "    <tr>\n",
       "      <th>Married</th>\n",
       "      <td>object</td>\n",
       "      <td>3</td>\n",
       "    </tr>\n",
       "    <tr>\n",
       "      <th>Dependents</th>\n",
       "      <td>object</td>\n",
       "      <td>15</td>\n",
       "    </tr>\n",
       "    <tr>\n",
       "      <th>Education</th>\n",
       "      <td>object</td>\n",
       "      <td>0</td>\n",
       "    </tr>\n",
       "    <tr>\n",
       "      <th>SelfEmployed</th>\n",
       "      <td>object</td>\n",
       "      <td>32</td>\n",
       "    </tr>\n",
       "    <tr>\n",
       "      <th>ApplicantIncome</th>\n",
       "      <td>int64</td>\n",
       "      <td>0</td>\n",
       "    </tr>\n",
       "    <tr>\n",
       "      <th>CoapplicantIncome</th>\n",
       "      <td>object</td>\n",
       "      <td>0</td>\n",
       "    </tr>\n",
       "    <tr>\n",
       "      <th>LoanAmount</th>\n",
       "      <td>float64</td>\n",
       "      <td>22</td>\n",
       "    </tr>\n",
       "    <tr>\n",
       "      <th>LoanAmountTerm</th>\n",
       "      <td>float64</td>\n",
       "      <td>14</td>\n",
       "    </tr>\n",
       "    <tr>\n",
       "      <th>PropertyArea</th>\n",
       "      <td>object</td>\n",
       "      <td>0</td>\n",
       "    </tr>\n",
       "    <tr>\n",
       "      <th>LoanStatus</th>\n",
       "      <td>object</td>\n",
       "      <td>0</td>\n",
       "    </tr>\n",
       "  </tbody>\n",
       "</table>\n",
       "</div>"
      ],
      "text/plain": [
       "                  Tipo de dato  Valores faltantes (NA)\n",
       "Loan_ID                 object                       0\n",
       "Gender                  object                      13\n",
       "Married                 object                       3\n",
       "Dependents              object                      15\n",
       "Education               object                       0\n",
       "SelfEmployed            object                      32\n",
       "ApplicantIncome          int64                       0\n",
       "CoapplicantIncome       object                       0\n",
       "LoanAmount             float64                      22\n",
       "LoanAmountTerm         float64                      14\n",
       "PropertyArea            object                       0\n",
       "LoanStatus              object                       0"
      ]
     },
     "execution_count": 49,
     "metadata": {},
     "output_type": "execute_result"
    }
   ],
   "source": [
    "pd.DataFrame.from_dict(\n",
    "    data = {\n",
    "        'Tipo de dato': dataset.dtypes,\n",
    "        'Valores faltantes (NA)': dataset.isna().sum(),\n",
    "    },\n",
    "    orient = 'columns'\n",
    ")"
   ]
  },
  {
   "cell_type": "markdown",
   "metadata": {},
   "source": [
    "Podemos observar que la base de datos cuenta con bastantes valores nulos, por lo\n",
    "que será necesario algún tipo de preprocesado para poder reducir su número."
   ]
  },
  {
   "cell_type": "markdown",
   "metadata": {},
   "source": [
    "#### Análisis de valores atípicos"
   ]
  },
  {
   "cell_type": "markdown",
   "metadata": {},
   "source": [
    "Además de los valores nulos, también es necesario analizar los valores atípicos\n",
    "(_outliers_) que puedan existir en la base de datos. Para ello, se ha realizado\n",
    "un análisis de los valores atípicos de las variables numéricas, que son las\n",
    "siguientes:\n",
    "\n",
    "* `ApplicantIncome`\n",
    "* `LoanAmount`\n",
    "* `LoanAmountTerm`\n",
    "\n",
    "Para este análisis, se ha utilizado el diagrama de cajas (_boxplot_), que nos\n",
    "permite observar los valores atípicos de una variable de forma visual."
   ]
  },
  {
   "cell_type": "code",
   "execution_count": 50,
   "metadata": {},
   "outputs": [
    {
     "data": {
      "text/plain": [
       "Text(0.5, 1.0, 'LoanAmountTerm')"
      ]
     },
     "execution_count": 50,
     "metadata": {},
     "output_type": "execute_result"
    },
    {
     "data": {
      "image/png": "[encoded data removed]",
      "text/plain": [
       "<Figure size 1500x1000 with 3 Axes>"
      ]
     },
     "metadata": {},
     "output_type": "display_data"
    }
   ],
   "source": [
    "fig, ax = plt.subplots(nrows = 1, ncols = 3, figsize = (15, 10))\n",
    "\n",
    "ax[0].boxplot(dataset['LoanAmount'].dropna())\n",
    "ax[0].set_title('LoanAmount')\n",
    "\n",
    "ax[1].boxplot(dataset['ApplicantIncome'])\n",
    "ax[1].set_title('ApplicantIncome')\n",
    "\n",
    "ax[2].boxplot(dataset['LoanAmountTerm'].dropna())\n",
    "ax[2].set_title('LoanAmountTerm')"
   ]
  },
  {
   "cell_type": "markdown",
   "metadata": {},
   "source": [
    "Según se puede observar, la variable `CoapplicantIncome` no se ha incluido en\n",
    "el análisis de outliers, pues aunque contenga números, estos están expresados\n",
    "como cadenas de texto, por lo que se debe analizar únicamente tras haber\n",
    "realizado el preprocesado de datos.\n",
    "\n",
    "Para corregir esta variable antes de comenzar el preproceasdo persé, se\n",
    "realizará una pequeña limpieza de datos en la que se formateará la variable a\n",
    "números, eliminando puntos y comas, y convirtiendo la variable a tipo numérico."
   ]
  },
  {
   "cell_type": "code",
   "execution_count": 51,
   "metadata": {},
   "outputs": [
    {
     "data": {
      "text/plain": [
       "Text(0.5, 1.0, 'CoapplicantIncome')"
      ]
     },
     "execution_count": 51,
     "metadata": {},
     "output_type": "execute_result"
    },
    {
     "data": {
      "image/png": "[encoded data removed]",
      "text/plain": [
       "<Figure size 640x480 with 1 Axes>"
      ]
     },
     "metadata": {},
     "output_type": "display_data"
    }
   ],
   "source": [
    "if dataset['CoapplicantIncome'].dtype is not np.dtype('int64'):\n",
    "    dataset['CoapplicantIncome'] = dataset['CoapplicantIncome'].apply(lambda x: int(x.replace('.', '')))\n",
    "\n",
    "fig, ax = plt.subplots()\n",
    "\n",
    "ax.boxplot(dataset['CoapplicantIncome'])\n",
    "ax.set_title('CoapplicantIncome')"
   ]
  },
  {
   "cell_type": "markdown",
   "metadata": {},
   "source": [
    "Como se observa en el diagrama de cajas de la variable `CoapplicantIncome`, esta\n",
    "cuenta con pocos valores atípicos, pero muy alejados del promedio de valores, lo\n",
    "que podrá (y seguramente lo hará) afectar al modelo de clasificación generado."
   ]
  },
  {
   "cell_type": "markdown",
   "metadata": {},
   "source": [
    "#### Balance de clases"
   ]
  },
  {
   "cell_type": "markdown",
   "metadata": {},
   "source": [
    "Como último paso de visualización de datos, puede ser interesante analizar el\n",
    "balance de clases de la variable de salida `LoanStatus`, para observar si\n",
    "existe un desbalance que pueda afectar al modelo de clasificación."
   ]
  },
  {
   "cell_type": "code",
   "execution_count": 52,
   "metadata": {},
   "outputs": [
    {
     "data": {
      "text/html": [
       "<div>\n",
       "<style scoped>\n",
       "    .dataframe tbody tr th:only-of-type {\n",
       "        vertical-align: middle;\n",
       "    }\n",
       "\n",
       "    .dataframe tbody tr th {\n",
       "        vertical-align: top;\n",
       "    }\n",
       "\n",
       "    .dataframe thead th {\n",
       "        text-align: right;\n",
       "    }\n",
       "</style>\n",
       "<table border=\"1\" class=\"dataframe\">\n",
       "  <thead>\n",
       "    <tr style=\"text-align: right;\">\n",
       "      <th></th>\n",
       "      <th>Registros</th>\n",
       "      <th>Porcentaje (%)</th>\n",
       "    </tr>\n",
       "    <tr>\n",
       "      <th>LoanStatus</th>\n",
       "      <th></th>\n",
       "      <th></th>\n",
       "    </tr>\n",
       "  </thead>\n",
       "  <tbody>\n",
       "    <tr>\n",
       "      <th>Y</th>\n",
       "      <td>422</td>\n",
       "      <td>68.73</td>\n",
       "    </tr>\n",
       "    <tr>\n",
       "      <th>N</th>\n",
       "      <td>192</td>\n",
       "      <td>31.27</td>\n",
       "    </tr>\n",
       "  </tbody>\n",
       "</table>\n",
       "</div>"
      ],
      "text/plain": [
       "            Registros  Porcentaje (%)\n",
       "LoanStatus                           \n",
       "Y                 422           68.73\n",
       "N                 192           31.27"
      ]
     },
     "execution_count": 52,
     "metadata": {},
     "output_type": "execute_result"
    }
   ],
   "source": [
    "pd.DataFrame.from_dict(\n",
    "    data = {\n",
    "        'Registros': dataset['LoanStatus'].value_counts(),\n",
    "        'Porcentaje (%)': dataset['LoanStatus'].value_counts(normalize = True).apply(lambda x: round(x * 100, 2)),\n",
    "    },\n",
    "    orient = 'columns'\n",
    ")"
   ]
  },
  {
   "cell_type": "markdown",
   "metadata": {},
   "source": [
    "Podemos observar un desbalance de clases moderado, pues casi un 70% de las\n",
    "entradas pertenecen a la clase de créditos aprobados (`Y`), mientras que el\n",
    "resto pertenecen a la clase de créditos denegados (`N`).\n",
    "\n",
    "Siendo un desbalance no tan marcado, es probable que no influya demasiado en el\n",
    "modelo de clasificación. Sin embargo, sería interesante más adelante realizar un\n",
    "entrenamiento del modelo con y sin balanceo de clases, para observar si existe\n",
    "alguna mejora en el rendimiento del mismo."
   ]
  },
  {
   "cell_type": "markdown",
   "metadata": {},
   "source": [
    "### Preprocesado de datos"
   ]
  },
  {
   "cell_type": "markdown",
   "metadata": {},
   "source": [
    "#### Eliminación de variables innecesarias"
   ]
  },
  {
   "cell_type": "markdown",
   "metadata": {},
   "source": [
    "El primer paso de la fase de preprocesado será la eliminación de aquellas\n",
    "variables que no aporten información al modelo, o sean irrelevantes por su\n",
    "propia naturaleza.\n",
    "\n",
    "En este caso en particular, todas las variables aportan información sobre los\n",
    "clientes que puede ser relevante; todas menos la variable `LoanID`, pues es un\n",
    "valor serial que se genera de forma automática para cada registro, y no aporta\n",
    "ninguna información útil para un modelo de clasificación."
   ]
  },
  {
   "cell_type": "code",
   "execution_count": 53,
   "metadata": {},
   "outputs": [
    {
     "data": {
      "text/html": [
       "<div>\n",
       "<style scoped>\n",
       "    .dataframe tbody tr th:only-of-type {\n",
       "        vertical-align: middle;\n",
       "    }\n",
       "\n",
       "    .dataframe tbody tr th {\n",
       "        vertical-align: top;\n",
       "    }\n",
       "\n",
       "    .dataframe thead th {\n",
       "        text-align: right;\n",
       "    }\n",
       "</style>\n",
       "<table border=\"1\" class=\"dataframe\">\n",
       "  <thead>\n",
       "    <tr style=\"text-align: right;\">\n",
       "      <th></th>\n",
       "      <th>Gender</th>\n",
       "      <th>Married</th>\n",
       "      <th>Dependents</th>\n",
       "      <th>Education</th>\n",
       "      <th>SelfEmployed</th>\n",
       "      <th>ApplicantIncome</th>\n",
       "      <th>CoapplicantIncome</th>\n",
       "      <th>LoanAmount</th>\n",
       "      <th>LoanAmountTerm</th>\n",
       "      <th>PropertyArea</th>\n",
       "      <th>LoanStatus</th>\n",
       "    </tr>\n",
       "  </thead>\n",
       "  <tbody>\n",
       "    <tr>\n",
       "      <th>0</th>\n",
       "      <td>Male</td>\n",
       "      <td>No</td>\n",
       "      <td>0</td>\n",
       "      <td>Graduate</td>\n",
       "      <td>No</td>\n",
       "      <td>5849</td>\n",
       "      <td>0</td>\n",
       "      <td>NaN</td>\n",
       "      <td>360.0</td>\n",
       "      <td>Urban</td>\n",
       "      <td>Y</td>\n",
       "    </tr>\n",
       "    <tr>\n",
       "      <th>1</th>\n",
       "      <td>Male</td>\n",
       "      <td>Yes</td>\n",
       "      <td>1</td>\n",
       "      <td>Graduate</td>\n",
       "      <td>No</td>\n",
       "      <td>4583</td>\n",
       "      <td>1508</td>\n",
       "      <td>128.0</td>\n",
       "      <td>360.0</td>\n",
       "      <td>Rural</td>\n",
       "      <td>N</td>\n",
       "    </tr>\n",
       "    <tr>\n",
       "      <th>2</th>\n",
       "      <td>Male</td>\n",
       "      <td>Yes</td>\n",
       "      <td>0</td>\n",
       "      <td>Graduate</td>\n",
       "      <td>Yes</td>\n",
       "      <td>3000</td>\n",
       "      <td>0</td>\n",
       "      <td>66.0</td>\n",
       "      <td>360.0</td>\n",
       "      <td>Urban</td>\n",
       "      <td>Y</td>\n",
       "    </tr>\n",
       "    <tr>\n",
       "      <th>3</th>\n",
       "      <td>Male</td>\n",
       "      <td>Yes</td>\n",
       "      <td>0</td>\n",
       "      <td>Not Graduate</td>\n",
       "      <td>No</td>\n",
       "      <td>2583</td>\n",
       "      <td>2358</td>\n",
       "      <td>120.0</td>\n",
       "      <td>360.0</td>\n",
       "      <td>Urban</td>\n",
       "      <td>Y</td>\n",
       "    </tr>\n",
       "    <tr>\n",
       "      <th>4</th>\n",
       "      <td>Male</td>\n",
       "      <td>No</td>\n",
       "      <td>0</td>\n",
       "      <td>Graduate</td>\n",
       "      <td>No</td>\n",
       "      <td>6000</td>\n",
       "      <td>0</td>\n",
       "      <td>141.0</td>\n",
       "      <td>360.0</td>\n",
       "      <td>Urban</td>\n",
       "      <td>Y</td>\n",
       "    </tr>\n",
       "  </tbody>\n",
       "</table>\n",
       "</div>"
      ],
      "text/plain": [
       "  Gender Married Dependents     Education SelfEmployed  ApplicantIncome  \\\n",
       "0   Male      No          0      Graduate           No             5849   \n",
       "1   Male     Yes          1      Graduate           No             4583   \n",
       "2   Male     Yes          0      Graduate          Yes             3000   \n",
       "3   Male     Yes          0  Not Graduate           No             2583   \n",
       "4   Male      No          0      Graduate           No             6000   \n",
       "\n",
       "   CoapplicantIncome  LoanAmount  LoanAmountTerm PropertyArea LoanStatus  \n",
       "0                  0         NaN           360.0        Urban          Y  \n",
       "1               1508       128.0           360.0        Rural          N  \n",
       "2                  0        66.0           360.0        Urban          Y  \n",
       "3               2358       120.0           360.0        Urban          Y  \n",
       "4                  0       141.0           360.0        Urban          Y  "
      ]
     },
     "execution_count": 53,
     "metadata": {},
     "output_type": "execute_result"
    }
   ],
   "source": [
    "if 'Loan_ID' in dataset.columns:\n",
    "    dataset.drop(columns = ['Loan_ID'], inplace = True)\n",
    "dataset.head()"
   ]
  },
  {
   "cell_type": "markdown",
   "metadata": {},
   "source": [
    "#### Corrección de valores faltantes"
   ]
  },
  {
   "cell_type": "markdown",
   "metadata": {},
   "source": [
    "Tras haber eliminado las variables innecesarias, se procederá a corregir los\n",
    "valores faltantes de las variables restantes. Para esto, generaremos dos\n",
    "conjuntos de datos, uno con los valores faltantes eliminados, y otro con los\n",
    "valores faltantes completados mediante técnicas tales como:\n",
    "\n",
    "* Media de los valores de la variable\n",
    "* Mediana de los valores de la variable\n",
    "* Moda de los valores de la variable\n",
    "* Media de los valores dependiendo de otra variable"
   ]
  },
  {
   "cell_type": "markdown",
   "metadata": {},
   "source": [
    "El primer paso en esta fase es la eliminación de los valores faltantes:\n"
   ]
  },
  {
   "cell_type": "code",
   "execution_count": 54,
   "metadata": {},
   "outputs": [
    {
     "data": {
      "text/html": [
       "<div>\n",
       "<style scoped>\n",
       "    .dataframe tbody tr th:only-of-type {\n",
       "        vertical-align: middle;\n",
       "    }\n",
       "\n",
       "    .dataframe tbody tr th {\n",
       "        vertical-align: top;\n",
       "    }\n",
       "\n",
       "    .dataframe thead th {\n",
       "        text-align: right;\n",
       "    }\n",
       "</style>\n",
       "<table border=\"1\" class=\"dataframe\">\n",
       "  <thead>\n",
       "    <tr style=\"text-align: right;\">\n",
       "      <th></th>\n",
       "      <th>Valores faltantes (NA)</th>\n",
       "    </tr>\n",
       "  </thead>\n",
       "  <tbody>\n",
       "    <tr>\n",
       "      <th>Gender</th>\n",
       "      <td>0</td>\n",
       "    </tr>\n",
       "    <tr>\n",
       "      <th>Married</th>\n",
       "      <td>0</td>\n",
       "    </tr>\n",
       "    <tr>\n",
       "      <th>Dependents</th>\n",
       "      <td>0</td>\n",
       "    </tr>\n",
       "    <tr>\n",
       "      <th>Education</th>\n",
       "      <td>0</td>\n",
       "    </tr>\n",
       "    <tr>\n",
       "      <th>SelfEmployed</th>\n",
       "      <td>0</td>\n",
       "    </tr>\n",
       "    <tr>\n",
       "      <th>ApplicantIncome</th>\n",
       "      <td>0</td>\n",
       "    </tr>\n",
       "    <tr>\n",
       "      <th>CoapplicantIncome</th>\n",
       "      <td>0</td>\n",
       "    </tr>\n",
       "    <tr>\n",
       "      <th>LoanAmount</th>\n",
       "      <td>0</td>\n",
       "    </tr>\n",
       "    <tr>\n",
       "      <th>LoanAmountTerm</th>\n",
       "      <td>0</td>\n",
       "    </tr>\n",
       "    <tr>\n",
       "      <th>PropertyArea</th>\n",
       "      <td>0</td>\n",
       "    </tr>\n",
       "    <tr>\n",
       "      <th>LoanStatus</th>\n",
       "      <td>0</td>\n",
       "    </tr>\n",
       "  </tbody>\n",
       "</table>\n",
       "</div>"
      ],
      "text/plain": [
       "                   Valores faltantes (NA)\n",
       "Gender                                  0\n",
       "Married                                 0\n",
       "Dependents                              0\n",
       "Education                               0\n",
       "SelfEmployed                            0\n",
       "ApplicantIncome                         0\n",
       "CoapplicantIncome                       0\n",
       "LoanAmount                              0\n",
       "LoanAmountTerm                          0\n",
       "PropertyArea                            0\n",
       "LoanStatus                              0"
      ]
     },
     "execution_count": 54,
     "metadata": {},
     "output_type": "execute_result"
    }
   ],
   "source": [
    "trimmed_dataset = dataset.dropna()\n",
    "\n",
    "pd.DataFrame.from_dict(\n",
    "    data = {\n",
    "        'Valores faltantes (NA)': trimmed_dataset.isna().sum(),\n",
    "    },\n",
    "    orient = 'columns'\n",
    ")"
   ]
  },
  {
   "cell_type": "markdown",
   "metadata": {},
   "source": [
    "El siguiente paso es rellenar todos los campos faltantes, dependiendo del tipo\n",
    "de dato y de su naturaleza, pues no todos los datos se pueden rellenar de la\n",
    "misma forma:\n",
    "\n",
    "* Los datos no numéricos se pueden rellenar según la moda de sus valores,\n",
    "pero no según la media ni la mediana, pues no podemos realizar los cálculos de\n",
    "promedio sobre ellos.\n",
    "* Los datos numéricos se pueden rellenar tanto con la media como con la\n",
    "moda o la mediana.\n",
    "    * Sin embargo, si contienen valores anómalos (outliers), es mejor rellenar\n",
    "    con la mediana, pues esta se ve menos afectada por los valores anómalos."
   ]
  },
  {
   "cell_type": "markdown",
   "metadata": {},
   "source": [
    "En este proyecto, los valores a rellenar son los siguientes:\n",
    "\n",
    "* `Gender`\n",
    "* `Married`\n",
    "* `Dependents`\n",
    "* `SelfEmployed`\n",
    "* `LoanAmount`\n",
    "* `LoanAmountTerm`"
   ]
  },
  {
   "cell_type": "markdown",
   "metadata": {},
   "source": [
    "##### Campo `Gender`"
   ]
  },
  {
   "cell_type": "markdown",
   "metadata": {},
   "source": [
    "El género es una variable categórica, por lo que se rellenará con la moda de sus\n",
    "valores respecto al valor de la variable `LoanStatus`."
   ]
  },
  {
   "cell_type": "code",
   "execution_count": 55,
   "metadata": {},
   "outputs": [
    {
     "name": "stdout",
     "output_type": "stream",
     "text": [
      "Valores de 'Gender' nulos: 13\n"
     ]
    }
   ],
   "source": [
    "filled_dataset = dataset.copy()\n",
    "print(f'Valores de \\'Gender\\' nulos: {filled_dataset[\"Gender\"].isna().sum()}')"
   ]
  },
  {
   "cell_type": "code",
   "execution_count": 56,
   "metadata": {},
   "outputs": [
    {
     "data": {
      "text/plain": [
       "LoanStatus  Gender\n",
       "N           Male      150\n",
       "            Female     37\n",
       "Y           Male      339\n",
       "            Female     75\n",
       "Name: count, dtype: int64"
      ]
     },
     "execution_count": 56,
     "metadata": {},
     "output_type": "execute_result"
    }
   ],
   "source": [
    "# Calculamos la moda de 'Gender' para cada 'LoanStatus'\n",
    "loan_status_mode = filled_dataset.groupby('LoanStatus')['Gender'].value_counts()\n",
    "loan_status_mode"
   ]
  },
  {
   "cell_type": "markdown",
   "metadata": {},
   "source": [
    "Podemos observar en ambos `LoanStatus` que la moda es `Male`, pues su proporción\n",
    "de valores es mayor. Este será, por tanto, el valor a rellenar,\n",
    "independientemente del valor del `LoanStatus` pues en ambos es mayoría."
   ]
  },
  {
   "cell_type": "code",
   "execution_count": 57,
   "metadata": {},
   "outputs": [
    {
     "name": "stdout",
     "output_type": "stream",
     "text": [
      "Valores de 'Gender' nulos: 0\n"
     ]
    }
   ],
   "source": [
    "# Calculo del genero modal\n",
    "modal_gender = loan_status_mode.groupby('LoanStatus').apply(lambda x: x.index[0][1]).iloc[0]\n",
    "modal_gender\n",
    "\n",
    "# Rellenado de valores nulos\n",
    "filled_dataset['Gender'].fillna(modal_gender, inplace = True)\n",
    "\n",
    "print(f'Valores de \\'Gender\\' nulos: {filled_dataset[\"Gender\"].isna().sum()}')"
   ]
  },
  {
   "cell_type": "markdown",
   "metadata": {},
   "source": [
    "##### Campo `Married`"
   ]
  },
  {
   "cell_type": "markdown",
   "metadata": {},
   "source": [
    "Para el campo `Married` se realizará la misma operación que para el campo\n",
    "`Gender`, pues ambos son variables categóricas."
   ]
  },
  {
   "cell_type": "code",
   "execution_count": 58,
   "metadata": {},
   "outputs": [
    {
     "data": {
      "text/plain": [
       "LoanStatus  Married\n",
       "N           Yes        113\n",
       "            No          79\n",
       "Y           Yes        285\n",
       "            No         134\n",
       "Name: count, dtype: int64"
      ]
     },
     "execution_count": 58,
     "metadata": {},
     "output_type": "execute_result"
    }
   ],
   "source": [
    "marital_status = filled_dataset.groupby('LoanStatus')['Married'].value_counts()\n",
    "marital_status"
   ]
  },
  {
   "cell_type": "markdown",
   "metadata": {},
   "source": [
    "De manera similar al campo `Gender`, el valor `Yes` es mayoritario en ambos\n",
    "valores de `LoanStatus`, por lo que será el valor a rellenar."
   ]
  },
  {
   "cell_type": "code",
   "execution_count": 59,
   "metadata": {},
   "outputs": [
    {
     "name": "stdout",
     "output_type": "stream",
     "text": [
      "Valores de 'Married' nulos: 0\n"
     ]
    }
   ],
   "source": [
    "# Calculo del estado civil modal\n",
    "modal_marital_status = marital_status.groupby('LoanStatus').apply(lambda x: x.index[0][1]).iloc[0]\n",
    "modal_marital_status\n",
    "\n",
    "# Rellenado de valores nulos\n",
    "filled_dataset['Married'].fillna(modal_marital_status, inplace = True)\n",
    "\n",
    "print(f'Valores de \\'Married\\' nulos: {filled_dataset[\"Married\"].isna().sum()}')"
   ]
  },
  {
   "cell_type": "markdown",
   "metadata": {},
   "source": [
    "##### Campo `Dependents`"
   ]
  },
  {
   "cell_type": "markdown",
   "metadata": {},
   "source": [
    "Esta variable también es categórica, por lo que se rellenará con la moda de sus\n",
    "valores respecto al valor de la variable `LoanStatus`."
   ]
  },
  {
   "cell_type": "code",
   "execution_count": 60,
   "metadata": {},
   "outputs": [
    {
     "data": {
      "text/plain": [
       "LoanStatus  Dependents\n",
       "N           0             107\n",
       "            1              36\n",
       "            2              25\n",
       "            3+             18\n",
       "Y           0             238\n",
       "            2              76\n",
       "            1              66\n",
       "            3+             33\n",
       "Name: count, dtype: int64"
      ]
     },
     "execution_count": 60,
     "metadata": {},
     "output_type": "execute_result"
    }
   ],
   "source": [
    "dependent_status = filled_dataset.groupby('LoanStatus')['Dependents'].value_counts()\n",
    "dependent_status"
   ]
  },
  {
   "cell_type": "markdown",
   "metadata": {},
   "source": [
    "Se vuelve a dar el caso de que en ambos valores de `LoanStatus` la moda es\n",
    "`0`, por lo que este será el valor a rellenar en ambos casos."
   ]
  },
  {
   "cell_type": "code",
   "execution_count": 61,
   "metadata": {},
   "outputs": [
    {
     "name": "stdout",
     "output_type": "stream",
     "text": [
      "Valores de 'Dependents' nulos: 0\n"
     ]
    }
   ],
   "source": [
    "# Calculo del 'depenants' modal\n",
    "modal_dependent_status = dependent_status.groupby('LoanStatus').apply(lambda x: x.index[0][1]).iloc[0]\n",
    "\n",
    "# Rellenado de valores nulos\n",
    "filled_dataset['Dependents'].fillna(modal_dependent_status, inplace = True)\n",
    "\n",
    "print(f'Valores de \\'Dependents\\' nulos: {filled_dataset[\"Dependents\"].isna().sum()}')"
   ]
  },
  {
   "cell_type": "markdown",
   "metadata": {},
   "source": [
    "##### Campo `SelfEmployed`"
   ]
  },
  {
   "cell_type": "markdown",
   "metadata": {},
   "source": [
    "Continuamos con otra variable categórica como sea `SelfEmployed`, repitiendo el\n",
    "proceso de rellenado de valores."
   ]
  },
  {
   "cell_type": "code",
   "execution_count": 62,
   "metadata": {},
   "outputs": [
    {
     "data": {
      "text/plain": [
       "LoanStatus  SelfEmployed\n",
       "N           No              157\n",
       "            Yes              26\n",
       "Y           No              343\n",
       "            Yes              56\n",
       "Name: count, dtype: int64"
      ]
     },
     "execution_count": 62,
     "metadata": {},
     "output_type": "execute_result"
    }
   ],
   "source": [
    "employed_status = filled_dataset.groupby('LoanStatus')['SelfEmployed'].value_counts()\n",
    "employed_status"
   ]
  },
  {
   "cell_type": "code",
   "execution_count": 63,
   "metadata": {},
   "outputs": [
    {
     "name": "stdout",
     "output_type": "stream",
     "text": [
      "Valores de 'SelfEmployed' nulos: 0\n"
     ]
    }
   ],
   "source": [
    "modal_employee_status = employed_status.groupby('LoanStatus').apply(lambda x: x.index[0][1]).iloc[0]\n",
    "\n",
    "filled_dataset['SelfEmployed'].fillna(modal_employee_status, inplace = True)\n",
    "\n",
    "print(f'Valores de \\'SelfEmployed\\' nulos: {filled_dataset[\"SelfEmployed\"].isna().sum()}')"
   ]
  },
  {
   "cell_type": "markdown",
   "metadata": {},
   "source": [
    "##### Campos `LoanAmount` y `LoanAmountTerm`"
   ]
  },
  {
   "cell_type": "markdown",
   "metadata": {},
   "source": [
    "Tanto los campos `LoanAmount` como `LoanAmountTerm` son variables numéricas, por\n",
    "lo que debemos aplicar técnicas basadas en media o mediana, preferiblemente.\n",
    "\n",
    "Como podemos observar en el gráfico del apartado *Análisis de valores atípicos*,\n",
    "ambas variables cuentan con valores atípicos, por lo que es preferible rellenar\n",
    "utilizando la mediana."
   ]
  },
  {
   "cell_type": "code",
   "execution_count": 64,
   "metadata": {},
   "outputs": [
    {
     "name": "stdout",
     "output_type": "stream",
     "text": [
      "Mediana de 'LoanAmount': 128.0\n",
      "Mediana de 'LoanAmountTerm': 360.0\n"
     ]
    }
   ],
   "source": [
    "median_loan_amount = filled_dataset['LoanAmount'].median()\n",
    "median_loan_amount_term = filled_dataset['LoanAmountTerm'].median()\n",
    "\n",
    "print(f'Mediana de \\'LoanAmount\\': {median_loan_amount}')\n",
    "print(f'Mediana de \\'LoanAmountTerm\\': {median_loan_amount_term}')"
   ]
  },
  {
   "cell_type": "code",
   "execution_count": 65,
   "metadata": {},
   "outputs": [
    {
     "name": "stdout",
     "output_type": "stream",
     "text": [
      "Valores de 'LoanAmount' nulos: 0\n",
      "Valores de 'LoanAmountTerm' nulos: 0\n"
     ]
    }
   ],
   "source": [
    "filled_dataset['LoanAmount'].fillna(median_loan_amount, inplace = True)\n",
    "filled_dataset['LoanAmountTerm'].fillna(median_loan_amount_term, inplace = True)\n",
    "\n",
    "print(f'Valores de \\'LoanAmount\\' nulos: {filled_dataset[\"LoanAmount\"].isna().sum()}')\n",
    "print(f'Valores de \\'LoanAmountTerm\\' nulos: {filled_dataset[\"LoanAmountTerm\"].isna().sum()}')"
   ]
  },
  {
   "cell_type": "markdown",
   "metadata": {},
   "source": [
    "Después de haber completado todas las variables con valores faltantes, podemos\n",
    "ver en la siguiente tabla como todos los registros se encuentran ahora\n",
    "completos."
   ]
  },
  {
   "cell_type": "code",
   "execution_count": 66,
   "metadata": {},
   "outputs": [
    {
     "data": {
      "text/html": [
       "<div>\n",
       "<style scoped>\n",
       "    .dataframe tbody tr th:only-of-type {\n",
       "        vertical-align: middle;\n",
       "    }\n",
       "\n",
       "    .dataframe tbody tr th {\n",
       "        vertical-align: top;\n",
       "    }\n",
       "\n",
       "    .dataframe thead th {\n",
       "        text-align: right;\n",
       "    }\n",
       "</style>\n",
       "<table border=\"1\" class=\"dataframe\">\n",
       "  <thead>\n",
       "    <tr style=\"text-align: right;\">\n",
       "      <th></th>\n",
       "      <th>Valores faltantes (NA)</th>\n",
       "    </tr>\n",
       "  </thead>\n",
       "  <tbody>\n",
       "    <tr>\n",
       "      <th>Gender</th>\n",
       "      <td>0</td>\n",
       "    </tr>\n",
       "    <tr>\n",
       "      <th>Married</th>\n",
       "      <td>0</td>\n",
       "    </tr>\n",
       "    <tr>\n",
       "      <th>Dependents</th>\n",
       "      <td>0</td>\n",
       "    </tr>\n",
       "    <tr>\n",
       "      <th>Education</th>\n",
       "      <td>0</td>\n",
       "    </tr>\n",
       "    <tr>\n",
       "      <th>SelfEmployed</th>\n",
       "      <td>0</td>\n",
       "    </tr>\n",
       "    <tr>\n",
       "      <th>ApplicantIncome</th>\n",
       "      <td>0</td>\n",
       "    </tr>\n",
       "    <tr>\n",
       "      <th>CoapplicantIncome</th>\n",
       "      <td>0</td>\n",
       "    </tr>\n",
       "    <tr>\n",
       "      <th>LoanAmount</th>\n",
       "      <td>0</td>\n",
       "    </tr>\n",
       "    <tr>\n",
       "      <th>LoanAmountTerm</th>\n",
       "      <td>0</td>\n",
       "    </tr>\n",
       "    <tr>\n",
       "      <th>PropertyArea</th>\n",
       "      <td>0</td>\n",
       "    </tr>\n",
       "    <tr>\n",
       "      <th>LoanStatus</th>\n",
       "      <td>0</td>\n",
       "    </tr>\n",
       "  </tbody>\n",
       "</table>\n",
       "</div>"
      ],
      "text/plain": [
       "                   Valores faltantes (NA)\n",
       "Gender                                  0\n",
       "Married                                 0\n",
       "Dependents                              0\n",
       "Education                               0\n",
       "SelfEmployed                            0\n",
       "ApplicantIncome                         0\n",
       "CoapplicantIncome                       0\n",
       "LoanAmount                              0\n",
       "LoanAmountTerm                          0\n",
       "PropertyArea                            0\n",
       "LoanStatus                              0"
      ]
     },
     "execution_count": 66,
     "metadata": {},
     "output_type": "execute_result"
    }
   ],
   "source": [
    "pd.DataFrame.from_dict(\n",
    "    data = {\n",
    "        'Valores faltantes (NA)': filled_dataset.isna().sum(),\n",
    "    },\n",
    "    orient = 'columns'\n",
    ")"
   ]
  },
  {
   "cell_type": "markdown",
   "metadata": {},
   "source": [
    "#### Etiquetado"
   ]
  },
  {
   "cell_type": "markdown",
   "metadata": {},
   "source": [
    "<img src=\"https://external-content.duckduckgo.com/iu/?u=https%3A%2F%2Fmemes.co.in%2Fmemes%2Fupdate%2Fuploads%2F2021%2F06%2Flglp97v9jmj61-1536x1536.jpg&f=1&nofb=1&ipt=e3c2217e7dbdb642ca180ccb09a42e0f13ed8251581c758ce9c372063743c0fe&ipo=images\" alt=\"Opcional\" width=\"100\" height=\"120\">"
   ]
  },
  {
   "cell_type": "markdown",
   "metadata": {},
   "source": [
    "#### Corrección de _outliers_"
   ]
  },
  {
   "cell_type": "markdown",
   "metadata": {},
   "source": [
    "Para la corrección de _outliers_ voy a eliminar todos aquellos valores a partir\n",
    "del valor calculado por el diagrama de cajas, que es el valor de la mediana más\n",
    "1.5 veces el rango intercuartílico."
   ]
  },
  {
   "cell_type": "code",
   "execution_count": 67,
   "metadata": {},
   "outputs": [
    {
     "name": "stdout",
     "output_type": "stream",
     "text": [
      "\n",
      "    Umbral de 'LoanAmount': (3.5, 261.5)\n",
      "    Umbral de 'ApplicantIncome': (-1498.75, 10171.25)\n",
      "    Umbral de 'LoanAmountTerm': (360.0, 360.0)\n",
      "    Umbral de 'CoapplicantIncome': (-3486.0, 5810.0)\n",
      "\n"
     ]
    }
   ],
   "source": [
    "def calc_outliers(dataset: pd.DataFrame, variable: str) -> tuple:\n",
    "    intercuartial_range = dataset[variable].quantile(0.75) - dataset[variable].quantile(0.25)\n",
    "    return (\n",
    "        dataset[variable].quantile(0.25) - 1.5 * intercuartial_range,\n",
    "        dataset[variable].quantile(0.75) + 1.5 * intercuartial_range,\n",
    "    )\n",
    "\n",
    "outlier_thresholds = {\n",
    "    \"LoanAmount\": calc_outliers(filled_dataset, 'LoanAmount'),\n",
    "    \"ApplicantIncome\": calc_outliers(filled_dataset, 'ApplicantIncome'),\n",
    "    \"LoanAmountTerm\": calc_outliers(filled_dataset, 'LoanAmountTerm'),\n",
    "    \"CoapplicantIncome\": calc_outliers(filled_dataset, 'CoapplicantIncome')\n",
    "}\n",
    "\n",
    "print(f'''\n",
    "    Umbral de \\'LoanAmount\\': {outlier_thresholds['LoanAmount']}\n",
    "    Umbral de \\'ApplicantIncome\\': {outlier_thresholds['ApplicantIncome']}\n",
    "    Umbral de \\'LoanAmountTerm\\': {outlier_thresholds['LoanAmountTerm']}\n",
    "    Umbral de \\'CoapplicantIncome\\': {outlier_thresholds['CoapplicantIncome']}\n",
    "''')"
   ]
  },
  {
   "cell_type": "markdown",
   "metadata": {},
   "source": [
    "Una vez calculados los umbrales a partir de los cuales se considerará un valor\n",
    "_outlier_, se eliminarán aquellas celdas que contengan valores superiores (o\n",
    "inferiores) a los umbrales designados."
   ]
  },
  {
   "cell_type": "code",
   "execution_count": 68,
   "metadata": {},
   "outputs": [],
   "source": [
    "for variable in outlier_thresholds.keys():\n",
    "    filled_dataset = filled_dataset[\n",
    "        (filled_dataset[variable] >= outlier_thresholds[variable][0]) &\n",
    "        (filled_dataset[variable] <= outlier_thresholds[variable][1])\n",
    "    ]"
   ]
  },
  {
   "cell_type": "code",
   "execution_count": 70,
   "metadata": {},
   "outputs": [
    {
     "data": {
      "text/plain": [
       "Text(0.5, 1.0, 'CoapplicantIncome')"
      ]
     },
     "execution_count": 70,
     "metadata": {},
     "output_type": "execute_result"
    },
    {
     "data": {
      "image/png": "[encoded data removed]",
      "text/plain": [
       "<Figure size 1500x1000 with 4 Axes>"
      ]
     },
     "metadata": {},
     "output_type": "display_data"
    }
   ],
   "source": [
    "fig, ax = plt.subplots(nrows = 1, ncols = 4, figsize = (15, 10))\n",
    "\n",
    "ax[0].boxplot(filled_dataset['LoanAmount'].dropna())\n",
    "ax[0].set_title('LoanAmount')\n",
    "\n",
    "ax[1].boxplot(filled_dataset['ApplicantIncome'])\n",
    "ax[1].set_title('ApplicantIncome')\n",
    "\n",
    "ax[2].boxplot(filled_dataset['LoanAmountTerm'].dropna())\n",
    "ax[2].set_title('LoanAmountTerm')\n",
    "\n",
    "ax[3].boxplot(filled_dataset['CoapplicantIncome'])\n",
    "ax[3].set_title('CoapplicantIncome')"
   ]
  },
  {
   "cell_type": "markdown",
   "metadata": {},
   "source": [
    "Como se puede observar, se han eliminado gran parte de los registros que\n",
    "contenían valores _outliers_ a partir de los umbrales calculados. Los _outliers_\n",
    "actuales son aquellos puntos que originalmente se contaban como valores\n",
    "ordinarios, pero por el hecho de haber eliminado otros valores, ahora se\n",
    "reconsideran como _outlayers_.\n",
    "\n",
    "En este proyecto se conservará esta \"segunda generación\" de _outliers_, pues ya\n",
    "se ha realizado suficiente limpieza."
   ]
  },
  {
   "cell_type": "markdown",
   "metadata": {},
   "source": [
    "#### Balance de clases"
   ]
  },
  {
   "cell_type": "markdown",
   "metadata": {},
   "source": [
    "Para solventar el desbalance de clases que se observó en la fase de\n",
    "visualización de datos, se utilizará la técnica de _undersampling_ sobre la\n",
    "clase mayoritaria una vez sea generado el subconjunto de entrenamiento.\n",
    "\n",
    "Para ello, dividiremos los dos conjuntos de datos de los que disponemos en:\n",
    "\n",
    "* Entrenamiento (70%)\n",
    "* Test (30%)"
   ]
  },
  {
   "cell_type": "code",
   "execution_count": 74,
   "metadata": {},
   "outputs": [],
   "source": [
    "from sklearn.model_selection import train_test_split\n",
    "\n",
    "x_trimmed = trimmed_dataset.drop(columns = ['LoanStatus'])\n",
    "y_trimmed = trimmed_dataset['LoanStatus']\n",
    "\n",
    "x_filled = filled_dataset.drop(columns = ['LoanStatus'])\n",
    "y_filled = filled_dataset['LoanStatus']\n",
    "\n",
    "x_train_trimmed, x_test_trimmed, y_train_trimmed, y_test_trimmed = train_test_split(\n",
    "    x_trimmed,\n",
    "    y_trimmed,\n",
    "    test_size = 0.2,\n",
    "    random_state = 42,\n",
    ")\n",
    "\n",
    "x_train_filled, x_test_filled, y_train_filled, y_test_filled = train_test_split(\n",
    "    x_filled,\n",
    "    y_filled,\n",
    "    test_size = 0.2,\n",
    "    random_state = 42,\n",
    ")"
   ]
  },
  {
   "cell_type": "markdown",
   "metadata": {},
   "source": [
    "Posteriormente, utilizaremos la función `RandomUnderSampler` de la librería\n",
    "`imblearn` para realizar el _undersampling_ sobre los conjuntos de entrenamiento."
   ]
  },
  {
   "cell_type": "code",
   "execution_count": 75,
   "metadata": {},
   "outputs": [],
   "source": [
    "from imblearn.under_sampling import RandomUnderSampler\n",
    "\n",
    "trim_undersampler = RandomUnderSampler(random_state = 42)\n",
    "fill_undersampler = RandomUnderSampler(random_state = 42)\n",
    "\n",
    "x_train_trimmed, y_train_trimmed = trim_undersampler.fit_resample(x_train_trimmed, y_train_trimmed)\n",
    "x_train_filled, y_train_filled = fill_undersampler.fit_resample(x_train_filled, y_train_filled)"
   ]
  },
  {
   "cell_type": "markdown",
   "metadata": {},
   "source": [
    "### Definición de modelos"
   ]
  },
  {
   "cell_type": "markdown",
   "metadata": {},
   "source": [
    "#### Creación de modelos"
   ]
  },
  {
   "cell_type": "markdown",
   "metadata": {},
   "source": [
    "#### Entrenamiento de modelos"
   ]
  },
  {
   "cell_type": "markdown",
   "metadata": {},
   "source": [
    "#### Evaluación de modelos"
   ]
  },
  {
   "cell_type": "markdown",
   "metadata": {},
   "source": [
    "## Conclusiones extraídas"
   ]
  }
 ],
 "metadata": {
  "kernelspec": {
   "display_name": "Python 3",
   "language": "python",
   "name": "python3"
  },
  "language_info": {
   "codemirror_mode": {
    "name": "ipython",
    "version": 3
   },
   "file_extension": ".py",
   "mimetype": "text/x-python",
   "name": "python",
   "nbconvert_exporter": "python",
   "pygments_lexer": "ipython3",
   "version": "3.11.4"
  },
  "orig_nbformat": 4
 },
 "nbformat": 4,
 "nbformat_minor": 2
}
